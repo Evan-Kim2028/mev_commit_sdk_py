{
 "cells": [
  {
   "cell_type": "code",
   "execution_count": 1,
   "metadata": {},
   "outputs": [
    {
     "data": {
      "text/plain": [
       "polars.config.Config"
      ]
     },
     "execution_count": 1,
     "metadata": {},
     "output_type": "execute_result"
    }
   ],
   "source": [
    "import cryo\n",
    "import os\n",
    "import polars as pl\n",
    "\n",
    "pl.Config.set_fmt_str_lengths(200)\n",
    "pl.Config.set_fmt_float(\"full\")"
   ]
  },
  {
   "cell_type": "code",
   "execution_count": 2,
   "metadata": {},
   "outputs": [],
   "source": [
    "rpc = os.environ.get(\"RPC\")"
   ]
  },
  {
   "cell_type": "code",
   "execution_count": 3,
   "metadata": {},
   "outputs": [
    {
     "name": "stdout",
     "output_type": "stream",
     "text": [
      "\u001b[1;37mcryo parameters\u001b[0m\n",
      "\u001b[38;2;0;225;0m───────────────\u001b[0m\n",
      "\u001b[38;2;0;225;0m- \u001b[0m\u001b[1;37mversion\u001b[0m\u001b[38;2;0;225;0m: \u001b[0m\u001b[38;2;170;170;170m9623110\u001b[0m\n",
      "\u001b[38;2;0;225;0m- \u001b[0m\u001b[1;37mdata\u001b[0m\u001b[38;2;0;225;0m: \u001b[0m\u001b[38;2;170;170;170m\u001b[0m\n",
      "    \u001b[38;2;0;225;0m- \u001b[0m\u001b[1;37mdatatypes\u001b[0m\u001b[38;2;0;225;0m: \u001b[0m\u001b[38;2;170;170;170mblocks, transactions\u001b[0m\n",
      "    \u001b[38;2;0;225;0m- \u001b[0m\u001b[1;37mblocks\u001b[0m\u001b[38;2;0;225;0m: \u001b[0m\u001b[38;2;170;170;170mn=100,000 min=20,071,214 max=20,171,213 align=no reorg_buffer=0\u001b[0m\n",
      "\u001b[38;2;0;225;0m- \u001b[0m\u001b[1;37msource\u001b[0m\u001b[38;2;0;225;0m: \u001b[0m\u001b[38;2;170;170;170m\u001b[0m\n",
      "    \u001b[38;2;0;225;0m- \u001b[0m\u001b[1;37mnetwork\u001b[0m\u001b[38;2;0;225;0m: \u001b[0m\u001b[38;2;170;170;170methereum\u001b[0m\n",
      "    \u001b[38;2;0;225;0m- \u001b[0m\u001b[1;37mrpc url\u001b[0m\u001b[38;2;0;225;0m: \u001b[0m\u001b[38;2;170;170;170mhttp://eth.rpc.hypersync.xyz \u001b[0m\n",
      "    \u001b[38;2;0;225;0m- \u001b[0m\u001b[1;37mmax requests per second\u001b[0m\u001b[38;2;0;225;0m: \u001b[0m\u001b[38;2;170;170;170munlimited\u001b[0m\n",
      "    \u001b[38;2;0;225;0m- \u001b[0m\u001b[1;37mmax concurrent requests\u001b[0m\u001b[38;2;0;225;0m: \u001b[0m\u001b[38;2;170;170;170munlimited\u001b[0m\n",
      "    \u001b[38;2;0;225;0m- \u001b[0m\u001b[1;37mmax concurrent chunks\u001b[0m\u001b[38;2;0;225;0m: \u001b[0m\u001b[38;2;170;170;170m4\u001b[0m\n",
      "\u001b[38;2;0;225;0m- \u001b[0m\u001b[1;37moutput\u001b[0m\u001b[38;2;0;225;0m: \u001b[0m\u001b[38;2;170;170;170m\u001b[0m\n",
      "    \u001b[38;2;0;225;0m- \u001b[0m\u001b[1;37mchunk size\u001b[0m\u001b[38;2;0;225;0m: \u001b[0m\u001b[38;2;170;170;170m1,000\u001b[0m\n",
      "    \u001b[38;2;0;225;0m- \u001b[0m\u001b[1;37mchunks to collect\u001b[0m\u001b[38;2;0;225;0m: \u001b[0m\u001b[38;2;170;170;170m100 / 100\u001b[0m\n",
      "    \u001b[38;2;0;225;0m- \u001b[0m\u001b[1;37moutput format\u001b[0m\u001b[38;2;0;225;0m: \u001b[0m\u001b[38;2;170;170;170mparquet\u001b[0m\n",
      "    \u001b[38;2;0;225;0m- \u001b[0m\u001b[1;37moutput dir\u001b[0m\u001b[38;2;0;225;0m: \u001b[0m\u001b[38;2;170;170;170m/home/evan/Documents/mev_commit_sdk_py/data\u001b[0m\n",
      "    \u001b[38;2;0;225;0m- \u001b[0m\u001b[1;37mreport file\u001b[0m\u001b[38;2;0;225;0m: \u001b[0m\u001b[38;2;170;170;170m$OUTPUT_DIR/.cryo/reports/2024-06-25_16-54-44.443412.json\u001b[0m\n",
      "\n",
      "\n",
      "\u001b[1;37mschema for blocks\u001b[0m\n",
      "\u001b[38;2;0;225;0m─────────────────\u001b[0m\n",
      "\u001b[38;2;0;225;0m- \u001b[0m\u001b[1;37mblock_number\u001b[0m\u001b[38;2;0;225;0m: \u001b[0m\u001b[38;2;170;170;170muint32\u001b[0m\n",
      "\u001b[38;2;0;225;0m- \u001b[0m\u001b[1;37mblock_hash\u001b[0m\u001b[38;2;0;225;0m: \u001b[0m\u001b[38;2;170;170;170mhex\u001b[0m\n",
      "\u001b[38;2;0;225;0m- \u001b[0m\u001b[1;37mtimestamp\u001b[0m\u001b[38;2;0;225;0m: \u001b[0m\u001b[38;2;170;170;170muint64\u001b[0m\n",
      "\u001b[38;2;0;225;0m- \u001b[0m\u001b[1;37mauthor\u001b[0m\u001b[38;2;0;225;0m: \u001b[0m\u001b[38;2;170;170;170mhex\u001b[0m\n",
      "\u001b[38;2;0;225;0m- \u001b[0m\u001b[1;37mgas_used\u001b[0m\u001b[38;2;0;225;0m: \u001b[0m\u001b[38;2;170;170;170muint64\u001b[0m\n",
      "\u001b[38;2;0;225;0m- \u001b[0m\u001b[1;37mextra_data\u001b[0m\u001b[38;2;0;225;0m: \u001b[0m\u001b[38;2;170;170;170mhex\u001b[0m\n",
      "\u001b[38;2;0;225;0m- \u001b[0m\u001b[1;37mbase_fee_per_gas\u001b[0m\u001b[38;2;0;225;0m: \u001b[0m\u001b[38;2;170;170;170muint64\u001b[0m\n",
      "\u001b[38;2;0;225;0m- \u001b[0m\u001b[1;37mchain_id\u001b[0m\u001b[38;2;0;225;0m: \u001b[0m\u001b[38;2;170;170;170muint64\u001b[0m\n",
      "\n",
      "sorting blocks by: block_number\n",
      "\n",
      "other available columns: parent_hash, uncles_hash, state_root, transactions_root, receipts_root, gas_limit, logs_bloom, difficulty, total_difficulty, size, mix_hash, nonce, withdrawals_root\n",
      "\n",
      "\n",
      "\u001b[1;37mschema for transactions\u001b[0m\n",
      "\u001b[38;2;0;225;0m───────────────────────\u001b[0m\n",
      "\u001b[38;2;0;225;0m- \u001b[0m\u001b[1;37mblock_number\u001b[0m\u001b[38;2;0;225;0m: \u001b[0m\u001b[38;2;170;170;170muint32\u001b[0m\n",
      "\u001b[38;2;0;225;0m- \u001b[0m\u001b[1;37mtransaction_index\u001b[0m\u001b[38;2;0;225;0m: \u001b[0m\u001b[38;2;170;170;170muint64\u001b[0m\n",
      "\u001b[38;2;0;225;0m- \u001b[0m\u001b[1;37mtransaction_hash\u001b[0m\u001b[38;2;0;225;0m: \u001b[0m\u001b[38;2;170;170;170mhex\u001b[0m\n",
      "\u001b[38;2;0;225;0m- \u001b[0m\u001b[1;37mnonce\u001b[0m\u001b[38;2;0;225;0m: \u001b[0m\u001b[38;2;170;170;170muint64\u001b[0m\n",
      "\u001b[38;2;0;225;0m- \u001b[0m\u001b[1;37mfrom_address\u001b[0m\u001b[38;2;0;225;0m: \u001b[0m\u001b[38;2;170;170;170mhex\u001b[0m\n",
      "\u001b[38;2;0;225;0m- \u001b[0m\u001b[1;37mto_address\u001b[0m\u001b[38;2;0;225;0m: \u001b[0m\u001b[38;2;170;170;170mhex\u001b[0m\n",
      "\u001b[38;2;0;225;0m- \u001b[0m\u001b[1;37mvalue_binary\u001b[0m\u001b[38;2;0;225;0m: \u001b[0m\u001b[38;2;170;170;170mbinary\u001b[0m\n",
      "\u001b[38;2;0;225;0m- \u001b[0m\u001b[1;37mvalue_string\u001b[0m\u001b[38;2;0;225;0m: \u001b[0m\u001b[38;2;170;170;170mstring\u001b[0m\n",
      "\u001b[38;2;0;225;0m- \u001b[0m\u001b[1;37mvalue_f64\u001b[0m\u001b[38;2;0;225;0m: \u001b[0m\u001b[38;2;170;170;170mfloat64\u001b[0m\n",
      "\u001b[38;2;0;225;0m- \u001b[0m\u001b[1;37minput\u001b[0m\u001b[38;2;0;225;0m: \u001b[0m\u001b[38;2;170;170;170mhex\u001b[0m\n",
      "\u001b[38;2;0;225;0m- \u001b[0m\u001b[1;37mgas_limit\u001b[0m\u001b[38;2;0;225;0m: \u001b[0m\u001b[38;2;170;170;170muint64\u001b[0m\n",
      "\u001b[38;2;0;225;0m- \u001b[0m\u001b[1;37mgas_used\u001b[0m\u001b[38;2;0;225;0m: \u001b[0m\u001b[38;2;170;170;170muint64\u001b[0m\n",
      "\u001b[38;2;0;225;0m- \u001b[0m\u001b[1;37mgas_price\u001b[0m\u001b[38;2;0;225;0m: \u001b[0m\u001b[38;2;170;170;170muint64\u001b[0m\n",
      "\u001b[38;2;0;225;0m- \u001b[0m\u001b[1;37mtransaction_type\u001b[0m\u001b[38;2;0;225;0m: \u001b[0m\u001b[38;2;170;170;170muint32\u001b[0m\n",
      "\u001b[38;2;0;225;0m- \u001b[0m\u001b[1;37mmax_priority_fee_per_gas\u001b[0m\u001b[38;2;0;225;0m: \u001b[0m\u001b[38;2;170;170;170muint64\u001b[0m\n",
      "\u001b[38;2;0;225;0m- \u001b[0m\u001b[1;37mmax_fee_per_gas\u001b[0m\u001b[38;2;0;225;0m: \u001b[0m\u001b[38;2;170;170;170muint64\u001b[0m\n",
      "\u001b[38;2;0;225;0m- \u001b[0m\u001b[1;37msuccess\u001b[0m\u001b[38;2;0;225;0m: \u001b[0m\u001b[38;2;170;170;170mbool\u001b[0m\n",
      "\u001b[38;2;0;225;0m- \u001b[0m\u001b[1;37mn_input_bytes\u001b[0m\u001b[38;2;0;225;0m: \u001b[0m\u001b[38;2;170;170;170muint32\u001b[0m\n",
      "\u001b[38;2;0;225;0m- \u001b[0m\u001b[1;37mn_input_zero_bytes\u001b[0m\u001b[38;2;0;225;0m: \u001b[0m\u001b[38;2;170;170;170muint32\u001b[0m\n",
      "\u001b[38;2;0;225;0m- \u001b[0m\u001b[1;37mn_input_nonzero_bytes\u001b[0m\u001b[38;2;0;225;0m: \u001b[0m\u001b[38;2;170;170;170muint32\u001b[0m\n",
      "\u001b[38;2;0;225;0m- \u001b[0m\u001b[1;37mchain_id\u001b[0m\u001b[38;2;0;225;0m: \u001b[0m\u001b[38;2;170;170;170muint64\u001b[0m\n",
      "\n",
      "sorting transactions by: block_number, transaction_index\n",
      "\n",
      "other available columns: n_rlp_bytes, block_hash, timestamp, r, s, v\n",
      "\n",
      "\n",
      "\u001b[1;37mcollecting data\u001b[0m\n",
      "\u001b[38;2;0;225;0m───────────────\u001b[0m\n"
     ]
    }
   ],
   "source": [
    "blocks_txs: pl.DataFrame = cryo.freeze(\n",
    "    'blocks_and_transactions',\n",
    "    # rpc='mev-commit.rpc.hypersync.xyz',\n",
    "    rpc='eth.rpc.hypersync.xyz ',\n",
    "    hex=True,\n",
    "    blocks=['-100000:latest'],\n",
    "    # subdirectory\n",
    "    # max_concurrent_chunks=10,\n",
    "    # chunk_size=100000,\n",
    "    output_dir='data'\n",
    ")"
   ]
  },
  {
   "cell_type": "code",
   "execution_count": null,
   "metadata": {},
   "outputs": [],
   "source": [
    "STOP  # start at 4GB"
   ]
  },
  {
   "cell_type": "code",
   "execution_count": null,
   "metadata": {},
   "outputs": [],
   "source": [
    "logs_df: pl.DataFrame = cryo.collect(\n",
    "    'logs',\n",
    "    rpc=rpc,\n",
    "    # rpc=\"https://chainrpc.testnet.mev-commit.xyz/\",\n",
    "    hex=True,\n",
    "    blocks=['-100000:latest'],\n",
    "    inner_request_size=10000,\n",
    "    # contract=['0x2eEbF31f5c932D51556E70235FB98bB2237d065c'],\n",
    "    # why is this returning nothing? https://github.com/primev/mev-commit/blob/e18751b889a82cfe409dd4f2c982340edc7df958/contracts/contracts/BlockTracker.sol#L12\n",
    "    event_signature='NewL1Block(uint256 indexed blockNumber,address indexed winner,uint256 indexed window)',\n",
    "    # topic0=[\n",
    "    #     '0x8323d3e5d25db513e1a772870aaa45e9b069a13d49879d72e70638b5c1c18cb7']\n",
    ")"
   ]
  },
  {
   "cell_type": "code",
   "execution_count": null,
   "metadata": {},
   "outputs": [
    {
     "data": {
      "text/html": [
       "<div><style>\n",
       ".dataframe > thead > tr,\n",
       ".dataframe > tbody > tr {\n",
       "  text-align: right;\n",
       "  white-space: pre-wrap;\n",
       "}\n",
       "</style>\n",
       "<small>shape: (1_451, 15)</small><table border=\"1\" class=\"dataframe\"><thead><tr><th>block_number</th><th>transaction_index</th><th>log_index</th><th>transaction_hash</th><th>address</th><th>topic0</th><th>n_data_bytes</th><th>chain_id</th><th>event__blockNumber_binary</th><th>event__blockNumber_string</th><th>event__blockNumber_f64</th><th>event__winner</th><th>event__window_binary</th><th>event__window_string</th><th>event__window_f64</th></tr><tr><td>u32</td><td>u32</td><td>u32</td><td>str</td><td>str</td><td>str</td><td>u32</td><td>u64</td><td>str</td><td>str</td><td>f64</td><td>str</td><td>str</td><td>str</td><td>f64</td></tr></thead><tbody><tr><td>1823568</td><td>0</td><td>0</td><td>&quot;0x2e91b5c41466e873ddcbd4cae5dd3b510f8250b73c61e7e05ca6f6c1a7165bc0&quot;</td><td>&quot;0x2eebf31f5c932d51556e70235fb98bb2237d065c&quot;</td><td>&quot;0x8323d3e5d25db513e1a772870aaa45e9b069a13d49879d72e70638b5c1c18cb7&quot;</td><td>0</td><td>17864</td><td>&quot;0x00000000000000000000000000000000000000000000000000000000001b2d39&quot;</td><td>&quot;1781049&quot;</td><td>1781049</td><td>&quot;0xf21b2308b84a60aca2066dcec6e9b1378b45f922&quot;</td><td>&quot;0x000000000000000000000000000000000000000000000000000000000002b7b9&quot;</td><td>&quot;178105&quot;</td><td>178105</td></tr><tr><td>1823608</td><td>0</td><td>0</td><td>&quot;0xfd5b834f641464123b60cc9a352655bb83e00cbacde458589f05f799b884fda0&quot;</td><td>&quot;0x2eebf31f5c932d51556e70235fb98bb2237d065c&quot;</td><td>&quot;0x8323d3e5d25db513e1a772870aaa45e9b069a13d49879d72e70638b5c1c18cb7&quot;</td><td>0</td><td>17864</td><td>&quot;0x00000000000000000000000000000000000000000000000000000000001b2d3a&quot;</td><td>&quot;1781050&quot;</td><td>1781050</td><td>&quot;0xf21b2308b84a60aca2066dcec6e9b1378b45f922&quot;</td><td>&quot;0x000000000000000000000000000000000000000000000000000000000002b7b9&quot;</td><td>&quot;178105&quot;</td><td>178105</td></tr><tr><td>1823718</td><td>0</td><td>1</td><td>&quot;0x2bfefe92a161857a1abe49c8003399f6776fa90c747468231cf903fda4d19ddd&quot;</td><td>&quot;0x2eebf31f5c932d51556e70235fb98bb2237d065c&quot;</td><td>&quot;0x8323d3e5d25db513e1a772870aaa45e9b069a13d49879d72e70638b5c1c18cb7&quot;</td><td>0</td><td>17864</td><td>&quot;0x00000000000000000000000000000000000000000000000000000000001b2d3b&quot;</td><td>&quot;1781051&quot;</td><td>1781051</td><td>&quot;0xf21b2308b84a60aca2066dcec6e9b1378b45f922&quot;</td><td>&quot;0x000000000000000000000000000000000000000000000000000000000002b7ba&quot;</td><td>&quot;178106&quot;</td><td>178106</td></tr><tr><td>1823778</td><td>0</td><td>0</td><td>&quot;0x3914e5edb3c34456b6b0eece7a1fff90494d662fe1d3ce380fe960d41ab422a0&quot;</td><td>&quot;0x2eebf31f5c932d51556e70235fb98bb2237d065c&quot;</td><td>&quot;0x8323d3e5d25db513e1a772870aaa45e9b069a13d49879d72e70638b5c1c18cb7&quot;</td><td>0</td><td>17864</td><td>&quot;0x00000000000000000000000000000000000000000000000000000000001b2d3c&quot;</td><td>&quot;1781052&quot;</td><td>1781052</td><td>&quot;0xf21b2308b84a60aca2066dcec6e9b1378b45f922&quot;</td><td>&quot;0x000000000000000000000000000000000000000000000000000000000002b7ba&quot;</td><td>&quot;178106&quot;</td><td>178106</td></tr><tr><td>1823848</td><td>0</td><td>0</td><td>&quot;0x98236d5b77adc740f5bbdc46f08b35b34c6c2d778c47a0e2c5a64e1c5b28c8ae&quot;</td><td>&quot;0x2eebf31f5c932d51556e70235fb98bb2237d065c&quot;</td><td>&quot;0x8323d3e5d25db513e1a772870aaa45e9b069a13d49879d72e70638b5c1c18cb7&quot;</td><td>0</td><td>17864</td><td>&quot;0x00000000000000000000000000000000000000000000000000000000001b2d3d&quot;</td><td>&quot;1781053&quot;</td><td>1781053</td><td>&quot;0xf21b2308b84a60aca2066dcec6e9b1378b45f922&quot;</td><td>&quot;0x000000000000000000000000000000000000000000000000000000000002b7ba&quot;</td><td>&quot;178106&quot;</td><td>178106</td></tr><tr><td>&hellip;</td><td>&hellip;</td><td>&hellip;</td><td>&hellip;</td><td>&hellip;</td><td>&hellip;</td><td>&hellip;</td><td>&hellip;</td><td>&hellip;</td><td>&hellip;</td><td>&hellip;</td><td>&hellip;</td><td>&hellip;</td><td>&hellip;</td><td>&hellip;</td></tr><tr><td>1923208</td><td>0</td><td>0</td><td>&quot;0x904ca5844d7c2797d5be8de9207cecd02681c246c28a6005c6392854faccea4a&quot;</td><td>&quot;0x2eebf31f5c932d51556e70235fb98bb2237d065c&quot;</td><td>&quot;0x8323d3e5d25db513e1a772870aaa45e9b069a13d49879d72e70638b5c1c18cb7&quot;</td><td>0</td><td>17864</td><td>&quot;0x00000000000000000000000000000000000000000000000000000000001b32e2&quot;</td><td>&quot;1782498&quot;</td><td>1782498</td><td>&quot;0xf21b2308b84a60aca2066dcec6e9b1378b45f922&quot;</td><td>&quot;0x000000000000000000000000000000000000000000000000000000000002b84a&quot;</td><td>&quot;178250&quot;</td><td>178250</td></tr><tr><td>1923268</td><td>0</td><td>0</td><td>&quot;0x35d54530fe3c4a416fdfe6df0d27d12fd332f36d0f35c1706b52cff4eeeec639&quot;</td><td>&quot;0x2eebf31f5c932d51556e70235fb98bb2237d065c&quot;</td><td>&quot;0x8323d3e5d25db513e1a772870aaa45e9b069a13d49879d72e70638b5c1c18cb7&quot;</td><td>0</td><td>17864</td><td>&quot;0x00000000000000000000000000000000000000000000000000000000001b32e3&quot;</td><td>&quot;1782499&quot;</td><td>1782499</td><td>&quot;0xf21b2308b84a60aca2066dcec6e9b1378b45f922&quot;</td><td>&quot;0x000000000000000000000000000000000000000000000000000000000002b84a&quot;</td><td>&quot;178250&quot;</td><td>178250</td></tr><tr><td>1923328</td><td>0</td><td>0</td><td>&quot;0xeda6e2b69a36e6a9e4ffdfb3d0c0bc3e2018377301e73c70b0b6dd52d20d2406&quot;</td><td>&quot;0x2eebf31f5c932d51556e70235fb98bb2237d065c&quot;</td><td>&quot;0x8323d3e5d25db513e1a772870aaa45e9b069a13d49879d72e70638b5c1c18cb7&quot;</td><td>0</td><td>17864</td><td>&quot;0x00000000000000000000000000000000000000000000000000000000001b32e4&quot;</td><td>&quot;1782500&quot;</td><td>1782500</td><td>&quot;0xf21b2308b84a60aca2066dcec6e9b1378b45f922&quot;</td><td>&quot;0x000000000000000000000000000000000000000000000000000000000002b84a&quot;</td><td>&quot;178250&quot;</td><td>178250</td></tr><tr><td>1923378</td><td>0</td><td>1</td><td>&quot;0x3326f365a437903c27d3dbcab13f9c69f006ca9fd2485a84e0dbd3cf2a15180d&quot;</td><td>&quot;0x2eebf31f5c932d51556e70235fb98bb2237d065c&quot;</td><td>&quot;0x8323d3e5d25db513e1a772870aaa45e9b069a13d49879d72e70638b5c1c18cb7&quot;</td><td>0</td><td>17864</td><td>&quot;0x00000000000000000000000000000000000000000000000000000000001b32e5&quot;</td><td>&quot;1782501&quot;</td><td>1782501</td><td>&quot;0xf21b2308b84a60aca2066dcec6e9b1378b45f922&quot;</td><td>&quot;0x000000000000000000000000000000000000000000000000000000000002b84b&quot;</td><td>&quot;178251&quot;</td><td>178251</td></tr><tr><td>1923458</td><td>0</td><td>0</td><td>&quot;0xbdfd79ba29ebcca891c1d3f390c2c4e71467179dea44e2c5f3c454abae5edaa6&quot;</td><td>&quot;0x2eebf31f5c932d51556e70235fb98bb2237d065c&quot;</td><td>&quot;0x8323d3e5d25db513e1a772870aaa45e9b069a13d49879d72e70638b5c1c18cb7&quot;</td><td>0</td><td>17864</td><td>&quot;0x00000000000000000000000000000000000000000000000000000000001b32e6&quot;</td><td>&quot;1782502&quot;</td><td>1782502</td><td>&quot;0xf21b2308b84a60aca2066dcec6e9b1378b45f922&quot;</td><td>&quot;0x000000000000000000000000000000000000000000000000000000000002b84b&quot;</td><td>&quot;178251&quot;</td><td>178251</td></tr></tbody></table></div>"
      ],
      "text/plain": [
       "shape: (1_451, 15)\n",
       "┌───────────┬───────────┬───────────┬───────────┬───┬───────────┬───────────┬───────────┬──────────┐\n",
       "│ block_num ┆ transacti ┆ log_index ┆ transacti ┆ … ┆ event__wi ┆ event__wi ┆ event__wi ┆ event__w │\n",
       "│ ber       ┆ on_index  ┆ ---       ┆ on_hash   ┆   ┆ nner      ┆ ndow_bina ┆ ndow_stri ┆ indow_f6 │\n",
       "│ ---       ┆ ---       ┆ u32       ┆ ---       ┆   ┆ ---       ┆ ry        ┆ ng        ┆ 4        │\n",
       "│ u32       ┆ u32       ┆           ┆ str       ┆   ┆ str       ┆ ---       ┆ ---       ┆ ---      │\n",
       "│           ┆           ┆           ┆           ┆   ┆           ┆ str       ┆ str       ┆ f64      │\n",
       "╞═══════════╪═══════════╪═══════════╪═══════════╪═══╪═══════════╪═══════════╪═══════════╪══════════╡\n",
       "│ 1823568   ┆ 0         ┆ 0         ┆ 0x2e91b5c ┆ … ┆ 0xf21b230 ┆ 0x0000000 ┆ 178105    ┆ 178105   │\n",
       "│           ┆           ┆           ┆ 41466e873 ┆   ┆ 8b84a60ac ┆ 000000000 ┆           ┆          │\n",
       "│           ┆           ┆           ┆ ddcbd4cae ┆   ┆ a2066dcec ┆ 000000000 ┆           ┆          │\n",
       "│           ┆           ┆           ┆ 5dd3b510f ┆   ┆ 6e9b1378b ┆ 000000000 ┆           ┆          │\n",
       "│           ┆           ┆           ┆ 8250b73c6 ┆   ┆ 45f922    ┆ 000000000 ┆           ┆          │\n",
       "│           ┆           ┆           ┆ 1e7e05ca6 ┆   ┆           ┆ 000000000 ┆           ┆          │\n",
       "│           ┆           ┆           ┆ f6c1a7165 ┆   ┆           ┆ 00000002b ┆           ┆          │\n",
       "│           ┆           ┆           ┆ bc0       ┆   ┆           ┆ 7b9       ┆           ┆          │\n",
       "│ 1823608   ┆ 0         ┆ 0         ┆ 0xfd5b834 ┆ … ┆ 0xf21b230 ┆ 0x0000000 ┆ 178105    ┆ 178105   │\n",
       "│           ┆           ┆           ┆ f64146412 ┆   ┆ 8b84a60ac ┆ 000000000 ┆           ┆          │\n",
       "│           ┆           ┆           ┆ 3b60cc9a3 ┆   ┆ a2066dcec ┆ 000000000 ┆           ┆          │\n",
       "│           ┆           ┆           ┆ 52655bb83 ┆   ┆ 6e9b1378b ┆ 000000000 ┆           ┆          │\n",
       "│           ┆           ┆           ┆ e00cbacde ┆   ┆ 45f922    ┆ 000000000 ┆           ┆          │\n",
       "│           ┆           ┆           ┆ 458589f05 ┆   ┆           ┆ 000000000 ┆           ┆          │\n",
       "│           ┆           ┆           ┆ f799b884f ┆   ┆           ┆ 00000002b ┆           ┆          │\n",
       "│           ┆           ┆           ┆ da0       ┆   ┆           ┆ 7b9       ┆           ┆          │\n",
       "│ 1823718   ┆ 0         ┆ 1         ┆ 0x2bfefe9 ┆ … ┆ 0xf21b230 ┆ 0x0000000 ┆ 178106    ┆ 178106   │\n",
       "│           ┆           ┆           ┆ 2a161857a ┆   ┆ 8b84a60ac ┆ 000000000 ┆           ┆          │\n",
       "│           ┆           ┆           ┆ 1abe49c80 ┆   ┆ a2066dcec ┆ 000000000 ┆           ┆          │\n",
       "│           ┆           ┆           ┆ 03399f677 ┆   ┆ 6e9b1378b ┆ 000000000 ┆           ┆          │\n",
       "│           ┆           ┆           ┆ 6fa90c747 ┆   ┆ 45f922    ┆ 000000000 ┆           ┆          │\n",
       "│           ┆           ┆           ┆ 468231cf9 ┆   ┆           ┆ 000000000 ┆           ┆          │\n",
       "│           ┆           ┆           ┆ 03fda4d19 ┆   ┆           ┆ 00000002b ┆           ┆          │\n",
       "│           ┆           ┆           ┆ ddd       ┆   ┆           ┆ 7ba       ┆           ┆          │\n",
       "│ 1823778   ┆ 0         ┆ 0         ┆ 0x3914e5e ┆ … ┆ 0xf21b230 ┆ 0x0000000 ┆ 178106    ┆ 178106   │\n",
       "│           ┆           ┆           ┆ db3c34456 ┆   ┆ 8b84a60ac ┆ 000000000 ┆           ┆          │\n",
       "│           ┆           ┆           ┆ b6b0eece7 ┆   ┆ a2066dcec ┆ 000000000 ┆           ┆          │\n",
       "│           ┆           ┆           ┆ a1fff9049 ┆   ┆ 6e9b1378b ┆ 000000000 ┆           ┆          │\n",
       "│           ┆           ┆           ┆ 4d662fe1d ┆   ┆ 45f922    ┆ 000000000 ┆           ┆          │\n",
       "│           ┆           ┆           ┆ 3ce380fe9 ┆   ┆           ┆ 000000000 ┆           ┆          │\n",
       "│           ┆           ┆           ┆ 60d41ab42 ┆   ┆           ┆ 00000002b ┆           ┆          │\n",
       "│           ┆           ┆           ┆ 2a0       ┆   ┆           ┆ 7ba       ┆           ┆          │\n",
       "│ 1823848   ┆ 0         ┆ 0         ┆ 0x98236d5 ┆ … ┆ 0xf21b230 ┆ 0x0000000 ┆ 178106    ┆ 178106   │\n",
       "│           ┆           ┆           ┆ b77adc740 ┆   ┆ 8b84a60ac ┆ 000000000 ┆           ┆          │\n",
       "│           ┆           ┆           ┆ f5bbdc46f ┆   ┆ a2066dcec ┆ 000000000 ┆           ┆          │\n",
       "│           ┆           ┆           ┆ 08b35b34c ┆   ┆ 6e9b1378b ┆ 000000000 ┆           ┆          │\n",
       "│           ┆           ┆           ┆ 6c2d778c4 ┆   ┆ 45f922    ┆ 000000000 ┆           ┆          │\n",
       "│           ┆           ┆           ┆ 7a0e2c5a6 ┆   ┆           ┆ 000000000 ┆           ┆          │\n",
       "│           ┆           ┆           ┆ 4e1c5b28c ┆   ┆           ┆ 00000002b ┆           ┆          │\n",
       "│           ┆           ┆           ┆ 8ae       ┆   ┆           ┆ 7ba       ┆           ┆          │\n",
       "│ …         ┆ …         ┆ …         ┆ …         ┆ … ┆ …         ┆ …         ┆ …         ┆ …        │\n",
       "│ 1923208   ┆ 0         ┆ 0         ┆ 0x904ca58 ┆ … ┆ 0xf21b230 ┆ 0x0000000 ┆ 178250    ┆ 178250   │\n",
       "│           ┆           ┆           ┆ 44d7c2797 ┆   ┆ 8b84a60ac ┆ 000000000 ┆           ┆          │\n",
       "│           ┆           ┆           ┆ d5be8de92 ┆   ┆ a2066dcec ┆ 000000000 ┆           ┆          │\n",
       "│           ┆           ┆           ┆ 07cecd026 ┆   ┆ 6e9b1378b ┆ 000000000 ┆           ┆          │\n",
       "│           ┆           ┆           ┆ 81c246c28 ┆   ┆ 45f922    ┆ 000000000 ┆           ┆          │\n",
       "│           ┆           ┆           ┆ a6005c639 ┆   ┆           ┆ 000000000 ┆           ┆          │\n",
       "│           ┆           ┆           ┆ 2854facce ┆   ┆           ┆ 00000002b ┆           ┆          │\n",
       "│           ┆           ┆           ┆ a4a       ┆   ┆           ┆ 84a       ┆           ┆          │\n",
       "│ 1923268   ┆ 0         ┆ 0         ┆ 0x35d5453 ┆ … ┆ 0xf21b230 ┆ 0x0000000 ┆ 178250    ┆ 178250   │\n",
       "│           ┆           ┆           ┆ 0fe3c4a41 ┆   ┆ 8b84a60ac ┆ 000000000 ┆           ┆          │\n",
       "│           ┆           ┆           ┆ 6fdfe6df0 ┆   ┆ a2066dcec ┆ 000000000 ┆           ┆          │\n",
       "│           ┆           ┆           ┆ d27d12fd3 ┆   ┆ 6e9b1378b ┆ 000000000 ┆           ┆          │\n",
       "│           ┆           ┆           ┆ 32f36d0f3 ┆   ┆ 45f922    ┆ 000000000 ┆           ┆          │\n",
       "│           ┆           ┆           ┆ 5c1706b52 ┆   ┆           ┆ 000000000 ┆           ┆          │\n",
       "│           ┆           ┆           ┆ cff4eeeec ┆   ┆           ┆ 00000002b ┆           ┆          │\n",
       "│           ┆           ┆           ┆ 639       ┆   ┆           ┆ 84a       ┆           ┆          │\n",
       "│ 1923328   ┆ 0         ┆ 0         ┆ 0xeda6e2b ┆ … ┆ 0xf21b230 ┆ 0x0000000 ┆ 178250    ┆ 178250   │\n",
       "│           ┆           ┆           ┆ 69a36e6a9 ┆   ┆ 8b84a60ac ┆ 000000000 ┆           ┆          │\n",
       "│           ┆           ┆           ┆ e4ffdfb3d ┆   ┆ a2066dcec ┆ 000000000 ┆           ┆          │\n",
       "│           ┆           ┆           ┆ 0c0bc3e20 ┆   ┆ 6e9b1378b ┆ 000000000 ┆           ┆          │\n",
       "│           ┆           ┆           ┆ 18377301e ┆   ┆ 45f922    ┆ 000000000 ┆           ┆          │\n",
       "│           ┆           ┆           ┆ 73c70b0b6 ┆   ┆           ┆ 000000000 ┆           ┆          │\n",
       "│           ┆           ┆           ┆ dd52d20d2 ┆   ┆           ┆ 00000002b ┆           ┆          │\n",
       "│           ┆           ┆           ┆ 406       ┆   ┆           ┆ 84a       ┆           ┆          │\n",
       "│ 1923378   ┆ 0         ┆ 1         ┆ 0x3326f36 ┆ … ┆ 0xf21b230 ┆ 0x0000000 ┆ 178251    ┆ 178251   │\n",
       "│           ┆           ┆           ┆ 5a437903c ┆   ┆ 8b84a60ac ┆ 000000000 ┆           ┆          │\n",
       "│           ┆           ┆           ┆ 27d3dbcab ┆   ┆ a2066dcec ┆ 000000000 ┆           ┆          │\n",
       "│           ┆           ┆           ┆ 13f9c69f0 ┆   ┆ 6e9b1378b ┆ 000000000 ┆           ┆          │\n",
       "│           ┆           ┆           ┆ 06ca9fd24 ┆   ┆ 45f922    ┆ 000000000 ┆           ┆          │\n",
       "│           ┆           ┆           ┆ 85a84e0db ┆   ┆           ┆ 000000000 ┆           ┆          │\n",
       "│           ┆           ┆           ┆ d3cf2a151 ┆   ┆           ┆ 00000002b ┆           ┆          │\n",
       "│           ┆           ┆           ┆ 80d       ┆   ┆           ┆ 84b       ┆           ┆          │\n",
       "│ 1923458   ┆ 0         ┆ 0         ┆ 0xbdfd79b ┆ … ┆ 0xf21b230 ┆ 0x0000000 ┆ 178251    ┆ 178251   │\n",
       "│           ┆           ┆           ┆ a29ebcca8 ┆   ┆ 8b84a60ac ┆ 000000000 ┆           ┆          │\n",
       "│           ┆           ┆           ┆ 91c1d3f39 ┆   ┆ a2066dcec ┆ 000000000 ┆           ┆          │\n",
       "│           ┆           ┆           ┆ 0c2c4e714 ┆   ┆ 6e9b1378b ┆ 000000000 ┆           ┆          │\n",
       "│           ┆           ┆           ┆ 67179dea4 ┆   ┆ 45f922    ┆ 000000000 ┆           ┆          │\n",
       "│           ┆           ┆           ┆ 4e2c5f3c4 ┆   ┆           ┆ 000000000 ┆           ┆          │\n",
       "│           ┆           ┆           ┆ 54abae5ed ┆   ┆           ┆ 00000002b ┆           ┆          │\n",
       "│           ┆           ┆           ┆ aa6       ┆   ┆           ┆ 84b       ┆           ┆          │\n",
       "└───────────┴───────────┴───────────┴───────────┴───┴───────────┴───────────┴───────────┴──────────┘"
      ]
     },
     "execution_count": 4,
     "metadata": {},
     "output_type": "execute_result"
    }
   ],
   "source": [
    "logs_df"
   ]
  },
  {
   "cell_type": "code",
   "execution_count": null,
   "metadata": {},
   "outputs": [
    {
     "data": {
      "text/html": [
       "<div><style>\n",
       ".dataframe > thead > tr,\n",
       ".dataframe > tbody > tr {\n",
       "  text-align: right;\n",
       "  white-space: pre-wrap;\n",
       "}\n",
       "</style>\n",
       "<small>shape: (1, 1)</small><table border=\"1\" class=\"dataframe\"><thead><tr><th>block_number</th></tr><tr><td>u32</td></tr></thead><tbody><tr><td>1823568</td></tr></tbody></table></div>"
      ],
      "text/plain": [
       "shape: (1, 1)\n",
       "┌──────────────┐\n",
       "│ block_number │\n",
       "│ ---          │\n",
       "│ u32          │\n",
       "╞══════════════╡\n",
       "│ 1823568      │\n",
       "└──────────────┘"
      ]
     },
     "execution_count": 5,
     "metadata": {},
     "output_type": "execute_result"
    }
   ],
   "source": [
    "logs_df.select('block_number').min()"
   ]
  },
  {
   "cell_type": "code",
   "execution_count": null,
   "metadata": {},
   "outputs": [
    {
     "data": {
      "text/html": [
       "<div><style>\n",
       ".dataframe > thead > tr,\n",
       ".dataframe > tbody > tr {\n",
       "  text-align: right;\n",
       "  white-space: pre-wrap;\n",
       "}\n",
       "</style>\n",
       "<small>shape: (1, 1)</small><table border=\"1\" class=\"dataframe\"><thead><tr><th>block_number</th></tr><tr><td>u32</td></tr></thead><tbody><tr><td>1923458</td></tr></tbody></table></div>"
      ],
      "text/plain": [
       "shape: (1, 1)\n",
       "┌──────────────┐\n",
       "│ block_number │\n",
       "│ ---          │\n",
       "│ u32          │\n",
       "╞══════════════╡\n",
       "│ 1923458      │\n",
       "└──────────────┘"
      ]
     },
     "execution_count": 6,
     "metadata": {},
     "output_type": "execute_result"
    }
   ],
   "source": [
    "logs_df.select('block_number').max()"
   ]
  },
  {
   "cell_type": "code",
   "execution_count": null,
   "metadata": {},
   "outputs": [
    {
     "data": {
      "text/html": [
       "<div><style>\n",
       ".dataframe > thead > tr,\n",
       ".dataframe > tbody > tr {\n",
       "  text-align: right;\n",
       "  white-space: pre-wrap;\n",
       "}\n",
       "</style>\n",
       "<small>shape: (147, 4)</small><table border=\"1\" class=\"dataframe\"><thead><tr><th>event__window_f64</th><th>blocks_in_window</th><th>first_block</th><th>last_block</th></tr><tr><td>f64</td><td>u32</td><td>u32</td><td>u32</td></tr></thead><tbody><tr><td>178251</td><td>2</td><td>1923378</td><td>1923458</td></tr><tr><td>178105</td><td>2</td><td>1823568</td><td>1823608</td></tr><tr><td>178124</td><td>7</td><td>1836268</td><td>1836861</td></tr><tr><td>178113</td><td>10</td><td>1828698</td><td>1829478</td></tr><tr><td>178134</td><td>10</td><td>1843098</td><td>1843638</td></tr><tr><td>&hellip;</td><td>&hellip;</td><td>&hellip;</td><td>&hellip;</td></tr><tr><td>178170</td><td>10</td><td>1867648</td><td>1868259</td></tr><tr><td>178171</td><td>10</td><td>1868308</td><td>1868908</td></tr><tr><td>178163</td><td>10</td><td>1863088</td><td>1863628</td></tr><tr><td>178129</td><td>10</td><td>1839569</td><td>1840169</td></tr><tr><td>178164</td><td>10</td><td>1863691</td><td>1864279</td></tr></tbody></table></div>"
      ],
      "text/plain": [
       "shape: (147, 4)\n",
       "┌───────────────────┬──────────────────┬─────────────┬────────────┐\n",
       "│ event__window_f64 ┆ blocks_in_window ┆ first_block ┆ last_block │\n",
       "│ ---               ┆ ---              ┆ ---         ┆ ---        │\n",
       "│ f64               ┆ u32              ┆ u32         ┆ u32        │\n",
       "╞═══════════════════╪══════════════════╪═════════════╪════════════╡\n",
       "│ 178251            ┆ 2                ┆ 1923378     ┆ 1923458    │\n",
       "│ 178105            ┆ 2                ┆ 1823568     ┆ 1823608    │\n",
       "│ 178124            ┆ 7                ┆ 1836268     ┆ 1836861    │\n",
       "│ 178113            ┆ 10               ┆ 1828698     ┆ 1829478    │\n",
       "│ 178134            ┆ 10               ┆ 1843098     ┆ 1843638    │\n",
       "│ …                 ┆ …                ┆ …           ┆ …          │\n",
       "│ 178170            ┆ 10               ┆ 1867648     ┆ 1868259    │\n",
       "│ 178171            ┆ 10               ┆ 1868308     ┆ 1868908    │\n",
       "│ 178163            ┆ 10               ┆ 1863088     ┆ 1863628    │\n",
       "│ 178129            ┆ 10               ┆ 1839569     ┆ 1840169    │\n",
       "│ 178164            ┆ 10               ┆ 1863691     ┆ 1864279    │\n",
       "└───────────────────┴──────────────────┴─────────────┴────────────┘"
      ]
     },
     "execution_count": 7,
     "metadata": {},
     "output_type": "execute_result"
    }
   ],
   "source": [
    "logs_df.group_by('event__window_f64').agg(\n",
    "    pl.col('event__blockNumber_f64').len().alias('blocks_in_window'),\n",
    "    pl.col('block_number').first().alias('first_block'),\n",
    "    pl.col('block_number').last().alias('last_block'),\n",
    ").sort(by='blocks_in_window', descending=False)"
   ]
  },
  {
   "cell_type": "code",
   "execution_count": null,
   "metadata": {},
   "outputs": [],
   "source": [
    "blocks_df: pl.DataFrame = cryo.collect(\n",
    "    'blocks',\n",
    "    rpc=rpc,\n",
    "    hex=True,\n",
    "    blocks=['1823568'],\n",
    ")"
   ]
  },
  {
   "cell_type": "code",
   "execution_count": null,
   "metadata": {},
   "outputs": [
    {
     "data": {
      "text/html": [
       "<div><style>\n",
       ".dataframe > thead > tr,\n",
       ".dataframe > tbody > tr {\n",
       "  text-align: right;\n",
       "  white-space: pre-wrap;\n",
       "}\n",
       "</style>\n",
       "<small>shape: (1, 9)</small><table border=\"1\" class=\"dataframe\"><thead><tr><th>block_hash</th><th>author</th><th>block_number</th><th>gas_used</th><th>extra_data</th><th>timestamp</th><th>base_fee_per_gas</th><th>chain_id</th><th>datetime</th></tr><tr><td>str</td><td>str</td><td>u32</td><td>u64</td><td>str</td><td>u64</td><td>u64</td><td>u64</td><td>datetime[ms]</td></tr></thead><tbody><tr><td>&quot;0x6adcc24f37e4bce764668e3bfee82d59a4102c74e41bb5700464bdaac728467a&quot;</td><td>&quot;0x0000000000000000000000000000000000000000&quot;</td><td>1823568</td><td>60478</td><td>&quot;0xd883010d0c846765746888676f312e32322e34856c696e7578000000000000003dcd6d328751fb8576d990a7eb480f6e8dbc8684b5a1ef9ee75494fa184374024fb83c8e648a4b74799831aca8ed1b92f0a7647662e0a70be6e3cb7e30f0999c00&quot;</td><td>1718984543275</td><td>7</td><td>17864</td><td>2024-06-21 15:42:23.275</td></tr></tbody></table></div>"
      ],
      "text/plain": [
       "shape: (1, 9)\n",
       "┌────────────┬───────────┬───────────┬──────────┬───┬───────────┬───────────┬──────────┬───────────┐\n",
       "│ block_hash ┆ author    ┆ block_num ┆ gas_used ┆ … ┆ timestamp ┆ base_fee_ ┆ chain_id ┆ datetime  │\n",
       "│ ---        ┆ ---       ┆ ber       ┆ ---      ┆   ┆ ---       ┆ per_gas   ┆ ---      ┆ ---       │\n",
       "│ str        ┆ str       ┆ ---       ┆ u64      ┆   ┆ u64       ┆ ---       ┆ u64      ┆ datetime[ │\n",
       "│            ┆           ┆ u32       ┆          ┆   ┆           ┆ u64       ┆          ┆ ms]       │\n",
       "╞════════════╪═══════════╪═══════════╪══════════╪═══╪═══════════╪═══════════╪══════════╪═══════════╡\n",
       "│ 0x6adcc24f ┆ 0x0000000 ┆ 1823568   ┆ 60478    ┆ … ┆ 171898454 ┆ 7         ┆ 17864    ┆ 2024-06-2 │\n",
       "│ 37e4bce764 ┆ 000000000 ┆           ┆          ┆   ┆ 3275      ┆           ┆          ┆ 1 15:42:2 │\n",
       "│ 668e3bfee8 ┆ 000000000 ┆           ┆          ┆   ┆           ┆           ┆          ┆ 3.275     │\n",
       "│ 2d59a4102c ┆ 000000000 ┆           ┆          ┆   ┆           ┆           ┆          ┆           │\n",
       "│ 74e41bb570 ┆ 000000    ┆           ┆          ┆   ┆           ┆           ┆          ┆           │\n",
       "│ 0464bdaac7 ┆           ┆           ┆          ┆   ┆           ┆           ┆          ┆           │\n",
       "│ 28467a     ┆           ┆           ┆          ┆   ┆           ┆           ┆          ┆           │\n",
       "└────────────┴───────────┴───────────┴──────────┴───┴───────────┴───────────┴──────────┴───────────┘"
      ]
     },
     "execution_count": 9,
     "metadata": {},
     "output_type": "execute_result"
    }
   ],
   "source": [
    "blocks_df.with_columns(pl.from_epoch(\n",
    "    'timestamp', time_unit='ms').alias('datetime'))"
   ]
  },
  {
   "cell_type": "code",
   "execution_count": null,
   "metadata": {},
   "outputs": [],
   "source": [
    "# blocks_df.write_parquet('blocks_cache.parquet')"
   ]
  },
  {
   "cell_type": "code",
   "execution_count": null,
   "metadata": {},
   "outputs": [],
   "source": [
    "# logs_df.write_parquet('logs_cache.parquet')"
   ]
  },
  {
   "cell_type": "code",
   "execution_count": null,
   "metadata": {},
   "outputs": [],
   "source": [
    "# rename event columns\n",
    "# Create a dictionary mapping old column names to new column names\n",
    "renamed_cols = {col: col.replace('event__', '')\n",
    "                for col in logs_df.columns if col.startswith('event__')}"
   ]
  },
  {
   "cell_type": "code",
   "execution_count": null,
   "metadata": {},
   "outputs": [],
   "source": [
    "logs_df = logs_df.rename(renamed_cols)"
   ]
  },
  {
   "cell_type": "code",
   "execution_count": null,
   "metadata": {},
   "outputs": [],
   "source": [
    "window_df = logs_df.select(\n",
    "    'block_number', 'blockNumber_f64', 'window_f64', 'winner')"
   ]
  },
  {
   "cell_type": "code",
   "execution_count": null,
   "metadata": {},
   "outputs": [
    {
     "data": {
      "text/html": [
       "<div><style>\n",
       ".dataframe > thead > tr,\n",
       ".dataframe > tbody > tr {\n",
       "  text-align: right;\n",
       "  white-space: pre-wrap;\n",
       "}\n",
       "</style>\n",
       "<small>shape: (1, 1)</small><table border=\"1\" class=\"dataframe\"><thead><tr><th>blockNumber_f64</th></tr><tr><td>f64</td></tr></thead><tbody><tr><td>1782073</td></tr></tbody></table></div>"
      ],
      "text/plain": [
       "shape: (1, 1)\n",
       "┌─────────────────┐\n",
       "│ blockNumber_f64 │\n",
       "│ ---             │\n",
       "│ f64             │\n",
       "╞═════════════════╡\n",
       "│ 1782073         │\n",
       "└─────────────────┘"
      ]
     },
     "execution_count": 14,
     "metadata": {},
     "output_type": "execute_result"
    }
   ],
   "source": [
    "window_df.select('blockNumber_f64').min()"
   ]
  },
  {
   "cell_type": "code",
   "execution_count": null,
   "metadata": {},
   "outputs": [
    {
     "data": {
      "text/html": [
       "<div><style>\n",
       ".dataframe > thead > tr,\n",
       ".dataframe > tbody > tr {\n",
       "  text-align: right;\n",
       "  white-space: pre-wrap;\n",
       "}\n",
       "</style>\n",
       "<small>shape: (1, 1)</small><table border=\"1\" class=\"dataframe\"><thead><tr><th>blockNumber_f64</th></tr><tr><td>f64</td></tr></thead><tbody><tr><td>1782433</td></tr></tbody></table></div>"
      ],
      "text/plain": [
       "shape: (1, 1)\n",
       "┌─────────────────┐\n",
       "│ blockNumber_f64 │\n",
       "│ ---             │\n",
       "│ f64             │\n",
       "╞═════════════════╡\n",
       "│ 1782433         │\n",
       "└─────────────────┘"
      ]
     },
     "execution_count": 15,
     "metadata": {},
     "output_type": "execute_result"
    }
   ],
   "source": [
    "window_df.select('blockNumber_f64').max()"
   ]
  },
  {
   "cell_type": "code",
   "execution_count": null,
   "metadata": {},
   "outputs": [
    {
     "data": {
      "text/plain": [
       "(70, 4)"
      ]
     },
     "execution_count": 9,
     "metadata": {},
     "output_type": "execute_result"
    }
   ],
   "source": [
    "window_df.shape"
   ]
  },
  {
   "cell_type": "code",
   "execution_count": null,
   "metadata": {},
   "outputs": [
    {
     "data": {
      "text/plain": [
       "(70, 1)"
      ]
     },
     "execution_count": 10,
     "metadata": {},
     "output_type": "execute_result"
    }
   ],
   "source": [
    "window_df.select('blockNumber_f64').unique().shape"
   ]
  },
  {
   "cell_type": "code",
   "execution_count": null,
   "metadata": {},
   "outputs": [],
   "source": [
    "full_window = window_df.group_by('window_f64').agg(pl.col('blockNumber_f64').len(\n",
    ").alias('blocks_in_window')).sort('blocks_in_window', descending=False)"
   ]
  },
  {
   "cell_type": "code",
   "execution_count": null,
   "metadata": {},
   "outputs": [
    {
     "data": {
      "text/html": [
       "<div><style>\n",
       ".dataframe > thead > tr,\n",
       ".dataframe > tbody > tr {\n",
       "  text-align: right;\n",
       "  white-space: pre-wrap;\n",
       "}\n",
       "</style>\n",
       "<small>shape: (8, 2)</small><table border=\"1\" class=\"dataframe\"><thead><tr><th>window_f64</th><th>blocks_in_window</th></tr><tr><td>f64</td><td>u32</td></tr></thead><tbody><tr><td>178236</td><td>1</td></tr><tr><td>178243</td><td>9</td></tr><tr><td>178240</td><td>10</td></tr><tr><td>178242</td><td>10</td></tr><tr><td>178239</td><td>10</td></tr><tr><td>178238</td><td>10</td></tr><tr><td>178241</td><td>10</td></tr><tr><td>178237</td><td>10</td></tr></tbody></table></div>"
      ],
      "text/plain": [
       "shape: (8, 2)\n",
       "┌────────────┬──────────────────┐\n",
       "│ window_f64 ┆ blocks_in_window │\n",
       "│ ---        ┆ ---              │\n",
       "│ f64        ┆ u32              │\n",
       "╞════════════╪══════════════════╡\n",
       "│ 178236     ┆ 1                │\n",
       "│ 178243     ┆ 9                │\n",
       "│ 178240     ┆ 10               │\n",
       "│ 178242     ┆ 10               │\n",
       "│ 178239     ┆ 10               │\n",
       "│ 178238     ┆ 10               │\n",
       "│ 178241     ┆ 10               │\n",
       "│ 178237     ┆ 10               │\n",
       "└────────────┴──────────────────┘"
      ]
     },
     "execution_count": 12,
     "metadata": {},
     "output_type": "execute_result"
    }
   ],
   "source": [
    "# windows not at full range\n",
    "full_window.sort(by='blocks_in_window', descending=False).head(8)"
   ]
  },
  {
   "cell_type": "code",
   "execution_count": null,
   "metadata": {},
   "outputs": [
    {
     "data": {
      "text/html": [
       "<div><style>\n",
       ".dataframe > thead > tr,\n",
       ".dataframe > tbody > tr {\n",
       "  text-align: right;\n",
       "  white-space: pre-wrap;\n",
       "}\n",
       "</style>\n",
       "<small>shape: (0, 4)</small><table border=\"1\" class=\"dataframe\"><thead><tr><th>block_number</th><th>blockNumber_f64</th><th>window_f64</th><th>winner</th></tr><tr><td>u32</td><td>f64</td><td>f64</td><td>str</td></tr></thead><tbody></tbody></table></div>"
      ],
      "text/plain": [
       "shape: (0, 4)\n",
       "┌──────────────┬─────────────────┬────────────┬────────┐\n",
       "│ block_number ┆ blockNumber_f64 ┆ window_f64 ┆ winner │\n",
       "│ ---          ┆ ---             ┆ ---        ┆ ---    │\n",
       "│ u32          ┆ f64             ┆ f64        ┆ str    │\n",
       "╞══════════════╪═════════════════╪════════════╪════════╡\n",
       "└──────────────┴─────────────────┴────────────┴────────┘"
      ]
     },
     "execution_count": 18,
     "metadata": {},
     "output_type": "execute_result"
    }
   ],
   "source": [
    "window_df.filter(pl.col('window_f64') == 178034)"
   ]
  },
  {
   "cell_type": "code",
   "execution_count": null,
   "metadata": {},
   "outputs": [
    {
     "data": {
      "text/plain": [
       "(38, 1)"
      ]
     },
     "execution_count": 19,
     "metadata": {},
     "output_type": "execute_result"
    }
   ],
   "source": [
    "full_window.select('window_f64').unique().shape"
   ]
  },
  {
   "cell_type": "code",
   "execution_count": null,
   "metadata": {},
   "outputs": [
    {
     "data": {
      "text/html": [
       "<div><style>\n",
       ".dataframe > thead > tr,\n",
       ".dataframe > tbody > tr {\n",
       "  text-align: right;\n",
       "  white-space: pre-wrap;\n",
       "}\n",
       "</style>\n",
       "<small>shape: (2, 2)</small><table border=\"1\" class=\"dataframe\"><thead><tr><th>blocks_in_window</th><th>count</th></tr><tr><td>u32</td><td>u32</td></tr></thead><tbody><tr><td>10</td><td>36</td></tr><tr><td>3</td><td>2</td></tr></tbody></table></div>"
      ],
      "text/plain": [
       "shape: (2, 2)\n",
       "┌──────────────────┬───────┐\n",
       "│ blocks_in_window ┆ count │\n",
       "│ ---              ┆ ---   │\n",
       "│ u32              ┆ u32   │\n",
       "╞══════════════════╪═══════╡\n",
       "│ 10               ┆ 36    │\n",
       "│ 3                ┆ 2     │\n",
       "└──────────────────┴───────┘"
      ]
     },
     "execution_count": 20,
     "metadata": {},
     "output_type": "execute_result"
    }
   ],
   "source": [
    "full_window.group_by('blocks_in_window').agg(\n",
    "    pl.len().alias('count')).sort(by='count', descending=True)"
   ]
  },
  {
   "cell_type": "markdown",
   "metadata": {},
   "source": [
    "### Holesky blocks"
   ]
  },
  {
   "cell_type": "code",
   "execution_count": null,
   "metadata": {},
   "outputs": [],
   "source": [
    "holesky_blocks_df = pl.read_parquet(\n",
    "    'blocks.parquet').filter(pl.col('number') > 1753839)"
   ]
  },
  {
   "cell_type": "code",
   "execution_count": null,
   "metadata": {},
   "outputs": [],
   "source": [
    "holesky_blocks_df.select('number').unique().shape"
   ]
  },
  {
   "cell_type": "code",
   "execution_count": null,
   "metadata": {},
   "outputs": [],
   "source": [
    "logs_df.select('block_number').unique().shape"
   ]
  },
  {
   "cell_type": "code",
   "execution_count": null,
   "metadata": {},
   "outputs": [],
   "source": []
  }
 ],
 "metadata": {
  "kernelspec": {
   "display_name": ".venv",
   "language": "python",
   "name": "python3"
  },
  "language_info": {
   "codemirror_mode": {
    "name": "ipython",
    "version": 3
   },
   "file_extension": ".py",
   "mimetype": "text/x-python",
   "name": "python",
   "nbconvert_exporter": "python",
   "pygments_lexer": "ipython3",
   "version": "3.10.2"
  }
 },
 "nbformat": 4,
 "nbformat_minor": 2
}
