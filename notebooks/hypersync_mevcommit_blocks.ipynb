{
 "cells": [
  {
   "cell_type": "code",
   "execution_count": 1,
   "metadata": {},
   "outputs": [],
   "source": [
    "import asyncio\n",
    "import polars as pl\n",
    "import nest_asyncio\n",
    "from mev_commit_sdk_py.hypersync_client import Hypersync\n",
    "\n",
    "# expand polars df output\n",
    "pl.Config.set_fmt_str_lengths(200)\n",
    "pl.Config.set_fmt_float(\"full\")\n",
    "\n",
    "# to run asyncio loop in notebook\n",
    "nest_asyncio.apply()"
   ]
  },
  {
   "cell_type": "code",
   "execution_count": 2,
   "metadata": {},
   "outputs": [],
   "source": [
    "client = Hypersync()"
   ]
  },
  {
   "cell_type": "code",
   "execution_count": 3,
   "metadata": {},
   "outputs": [],
   "source": [
    "asyncio.run(client.fetch_data(block_range=1000000))"
   ]
  },
  {
   "cell_type": "code",
   "execution_count": 4,
   "metadata": {},
   "outputs": [],
   "source": [
    "txs = pl.read_parquet('data/transactions.parquet')"
   ]
  },
  {
   "cell_type": "code",
   "execution_count": 8,
   "metadata": {},
   "outputs": [
    {
     "data": {
      "text/html": [
       "<div><style>\n",
       ".dataframe > thead > tr,\n",
       ".dataframe > tbody > tr {\n",
       "  text-align: right;\n",
       "  white-space: pre-wrap;\n",
       "}\n",
       "</style>\n",
       "<small>shape: (10, 2)</small><table border=\"1\" class=\"dataframe\"><thead><tr><th>from</th><th>count</th></tr><tr><td>str</td><td>u32</td></tr></thead><tbody><tr><td>&quot;0xb0804048fb675152ad60c8963e9f2d6b0f7f158e&quot;</td><td>15000</td></tr><tr><td>&quot;0x858456339c27c2e60d2a8e9cc2b679a8f72ac9f8&quot;</td><td>261</td></tr><tr><td>&quot;0xf21b2308b84a60aca2066dcec6e9b1378b45f922&quot;</td><td>189</td></tr><tr><td>&quot;0x6875d4607c6cb4dfce1300545ab91a4005e33fd0&quot;</td><td>46</td></tr><tr><td>&quot;0x8280f34750068c67acf5366a5c7caea554c36fb5&quot;</td><td>45</td></tr><tr><td>&quot;0x2445e5e28890de3e93f39fca817639c470f4d3b9&quot;</td><td>21</td></tr><tr><td>&quot;0x8ddc1804d9bae57e20581224b1de55c52c93e9ea&quot;</td><td>19</td></tr><tr><td>&quot;0xe51ef1836dbef052bffd2eb3fe1314365d23129d&quot;</td><td>17</td></tr><tr><td>&quot;0x9cae5329c66495d73d2e3398c8542cb674167704&quot;</td><td>11</td></tr><tr><td>&quot;0x569d37d4ff78ebefd8ca5aac8539279cf6a6d89c&quot;</td><td>9</td></tr></tbody></table></div>"
      ],
      "text/plain": [
       "shape: (10, 2)\n",
       "┌────────────────────────────────────────────┬───────┐\n",
       "│ from                                       ┆ count │\n",
       "│ ---                                        ┆ ---   │\n",
       "│ str                                        ┆ u32   │\n",
       "╞════════════════════════════════════════════╪═══════╡\n",
       "│ 0xb0804048fb675152ad60c8963e9f2d6b0f7f158e ┆ 15000 │\n",
       "│ 0x858456339c27c2e60d2a8e9cc2b679a8f72ac9f8 ┆ 261   │\n",
       "│ 0xf21b2308b84a60aca2066dcec6e9b1378b45f922 ┆ 189   │\n",
       "│ 0x6875d4607c6cb4dfce1300545ab91a4005e33fd0 ┆ 46    │\n",
       "│ 0x8280f34750068c67acf5366a5c7caea554c36fb5 ┆ 45    │\n",
       "│ 0x2445e5e28890de3e93f39fca817639c470f4d3b9 ┆ 21    │\n",
       "│ 0x8ddc1804d9bae57e20581224b1de55c52c93e9ea ┆ 19    │\n",
       "│ 0xe51ef1836dbef052bffd2eb3fe1314365d23129d ┆ 17    │\n",
       "│ 0x9cae5329c66495d73d2e3398c8542cb674167704 ┆ 11    │\n",
       "│ 0x569d37d4ff78ebefd8ca5aac8539279cf6a6d89c ┆ 9     │\n",
       "└────────────────────────────────────────────┴───────┘"
      ]
     },
     "execution_count": 8,
     "metadata": {},
     "output_type": "execute_result"
    }
   ],
   "source": [
    "txs.group_by('from').agg(pl.len().alias('count')).sort(by='count', descending=True).head(10)"
   ]
  },
  {
   "cell_type": "code",
   "execution_count": null,
   "metadata": {},
   "outputs": [],
   "source": []
  }
 ],
 "metadata": {
  "kernelspec": {
   "display_name": ".venv",
   "language": "python",
   "name": "python3"
  },
  "language_info": {
   "codemirror_mode": {
    "name": "ipython",
    "version": 3
   },
   "file_extension": ".py",
   "mimetype": "text/x-python",
   "name": "python",
   "nbconvert_exporter": "python",
   "pygments_lexer": "ipython3",
   "version": "3.10.2"
  }
 },
 "nbformat": 4,
 "nbformat_minor": 2
}
